{
 "cells": [
  {
   "cell_type": "code",
   "execution_count": 2,
   "metadata": {},
   "outputs": [],
   "source": [
    "# import packages\n",
    "\n",
    "import numpy as np\n",
    "import pandas as pd\n",
    "import pickle\n",
    "\n",
    "\n",
    "import os\n",
    "#import seaborn as sns\n",
    "\n",
    "import tensorflow as tf\n",
    "import tensorflow_hub as hub\n",
    "\n",
    "from tensorflow import keras\n",
    "\n",
    "import datetime\n",
    "import matplotlib.pyplot as plt\n",
    "import preprocessor as p\n",
    "\n",
    "from utils.embed_utils import read_glove_vecs\n",
    "\n",
    "from sklearn.model_selection import train_test_split\n",
    "from sklearn.metrics import mean_squared_error\n",
    "\n",
    "import re\n",
    "import string"
   ]
  },
  {
   "cell_type": "code",
   "execution_count": 3,
   "metadata": {},
   "outputs": [],
   "source": [
    "def load_data(train_or_test):\n",
    "    if train_or_test not in ['train', 'test']:\n",
    "        return None\n",
    "    path = 'data\\CombinedTWTAQ_' + train_or_test + '.pkl'\n",
    "    with open(path, 'rb') as infile:\n",
    "        df = pickle.load(infile)\n",
    "    return df\n",
    "\n",
    "def clean_text(text):\n",
    "    '''\n",
    "    lowercase, remove puncs, remove urls\n",
    "    '''\n",
    "    return p.clean(text)\n",
    "    \n",
    "clean = lambda x: clean_text(x)\n",
    "\n",
    "def df_to_xy(df):\n",
    "    x_text = df.text.apply(lambda x: x).values\n",
    "    #x_price = df.PP.apply(lambda xx: xx[:60]).values\n",
    "    y = df.PP.apply(lambda xx: xx[75]).values\n",
    "    #y = y.values\n",
    "    return (x_text,y)"
   ]
  },
  {
   "cell_type": "code",
   "execution_count": 4,
   "metadata": {},
   "outputs": [],
   "source": [
    "#module_url = \"https://tfhub.dev/google/universal-sentence-encoder/2\" #@param [\"https://tfhub.dev/google/universal-sentence-encoder/2\", \"https://tfhub.dev/google/universal-sentence-encoder-large/3\"]\n",
    "module_url = \"https://tfhub.dev/google/universal-sentence-encoder-large/3\""
   ]
  },
  {
   "cell_type": "code",
   "execution_count": 5,
   "metadata": {},
   "outputs": [],
   "source": [
    "df_train = load_data('train')\n",
    "(x,y) = df_to_xy(df_train)\n"
   ]
  },
  {
   "cell_type": "code",
   "execution_count": 8,
   "metadata": {},
   "outputs": [],
   "source": [
    "embed = hub.Module(module_url)\n",
    "\n",
    "tf.logging.set_verbosity(tf.logging.ERROR)\n",
    "\n",
    "with tf.Session() as sess:\n",
    "  sess.run([tf.global_variables_initializer(), tf.tables_initializer()])\n",
    "  embeddings = sess.run(embed(x))"
   ]
  },
  {
   "cell_type": "code",
   "execution_count": 9,
   "metadata": {},
   "outputs": [],
   "source": [
    "#x_train, x_dev, y_train, y_dev = train_test_split(x,y, test_size=200, random_state=50)\n",
    "\n",
    "x_train, x_dev, y_train, y_dev = train_test_split(embeddings,y, test_size=200, random_state=50)\n"
   ]
  },
  {
   "cell_type": "code",
   "execution_count": 10,
   "metadata": {},
   "outputs": [
    {
     "data": {
      "text/plain": [
       "(1345, 512)"
      ]
     },
     "execution_count": 10,
     "metadata": {},
     "output_type": "execute_result"
    }
   ],
   "source": [
    "embeddings.shape"
   ]
  },
  {
   "cell_type": "code",
   "execution_count": 11,
   "metadata": {},
   "outputs": [
    {
     "data": {
      "text/plain": [
       "numpy.ndarray"
      ]
     },
     "execution_count": 11,
     "metadata": {},
     "output_type": "execute_result"
    }
   ],
   "source": [
    "type(embeddings)"
   ]
  },
  {
   "cell_type": "code",
   "execution_count": 12,
   "metadata": {},
   "outputs": [
    {
     "data": {
      "text/plain": [
       "(1145, 512)"
      ]
     },
     "execution_count": 12,
     "metadata": {},
     "output_type": "execute_result"
    }
   ],
   "source": [
    "x_train.shape"
   ]
  },
  {
   "cell_type": "code",
   "execution_count": null,
   "metadata": {},
   "outputs": [],
   "source": []
  },
  {
   "cell_type": "code",
   "execution_count": 13,
   "metadata": {},
   "outputs": [],
   "source": [
    "def create_model_use(embed_size=512):\n",
    "    \n",
    "    input_embed = keras.layers.Input(shape=(embed_size,), dtype=tf.float32)\n",
    "    X = keras.layers.Dropout(0.5)(input_embed)\n",
    "    X = keras.layers.Dense(4, activation='sigmoid',kernel_regularizer=keras.regularizers.l2(0.01))(X)\n",
    "    X = keras.layers.Dropout(0.2)(X)\n",
    "    out = keras.layers.Dense(1, activation='linear')(X)\n",
    "    \n",
    "    # Create Model instance which converts sentence_indices into X.\n",
    "    model = keras.models.Model(inputs=input_embed, outputs=out)\n",
    "    \n",
    "    return model"
   ]
  },
  {
   "cell_type": "code",
   "execution_count": 14,
   "metadata": {},
   "outputs": [
    {
     "name": "stdout",
     "output_type": "stream",
     "text": [
      "Model: \"model\"\n",
      "_________________________________________________________________\n",
      "Layer (type)                 Output Shape              Param #   \n",
      "=================================================================\n",
      "input_1 (InputLayer)         [(None, 512)]             0         \n",
      "_________________________________________________________________\n",
      "dropout (Dropout)            (None, 512)               0         \n",
      "_________________________________________________________________\n",
      "dense (Dense)                (None, 4)                 2052      \n",
      "_________________________________________________________________\n",
      "dropout_1 (Dropout)          (None, 4)                 0         \n",
      "_________________________________________________________________\n",
      "dense_1 (Dense)              (None, 1)                 5         \n",
      "=================================================================\n",
      "Total params: 2,057\n",
      "Trainable params: 2,057\n",
      "Non-trainable params: 0\n",
      "_________________________________________________________________\n",
      "Train on 1145 samples\n",
      "Epoch 1/200\n",
      "1145/1145 [==============================] - 0s 150us/sample - loss: 0.4555 - mean_squared_error: 0.3827 - mean_absolute_error: 0.5323\n",
      "Epoch 2/200\n",
      "1145/1145 [==============================] - 0s 41us/sample - loss: 0.2734 - mean_squared_error: 0.2064 - mean_absolute_error: 0.3764\n",
      "Epoch 3/200\n",
      "1145/1145 [==============================] - 0s 55us/sample - loss: 0.2061 - mean_squared_error: 0.1479 - mean_absolute_error: 0.3090\n",
      "Epoch 4/200\n",
      "1145/1145 [==============================] - 0s 68us/sample - loss: 0.1634 - mean_squared_error: 0.1160 - mean_absolute_error: 0.2617\n",
      "Epoch 5/200\n",
      "1145/1145 [==============================] - 0s 82us/sample - loss: 0.1377 - mean_squared_error: 0.1003 - mean_absolute_error: 0.2435\n",
      "Epoch 6/200\n",
      "1145/1145 [==============================] - 0s 68us/sample - loss: 0.1293 - mean_squared_error: 0.0987 - mean_absolute_error: 0.2441\n",
      "Epoch 7/200\n",
      "1145/1145 [==============================] - 0s 96us/sample - loss: 0.1226 - mean_squared_error: 0.0963 - mean_absolute_error: 0.2364\n",
      "Epoch 8/200\n",
      "1145/1145 [==============================] - 0s 55us/sample - loss: 0.1103 - mean_squared_error: 0.0875 - mean_absolute_error: 0.2273\n",
      "Epoch 9/200\n",
      "1145/1145 [==============================] - 0s 55us/sample - loss: 0.1067 - mean_squared_error: 0.0867 - mean_absolute_error: 0.2289\n",
      "Epoch 10/200\n",
      "1145/1145 [==============================] - 0s 68us/sample - loss: 0.1024 - mean_squared_error: 0.0842 - mean_absolute_error: 0.2244\n",
      "Epoch 11/200\n",
      "1145/1145 [==============================] - 0s 68us/sample - loss: 0.0970 - mean_squared_error: 0.0804 - mean_absolute_error: 0.2202\n",
      "Epoch 12/200\n",
      "1145/1145 [==============================] - 0s 68us/sample - loss: 0.0822 - mean_squared_error: 0.0673 - mean_absolute_error: 0.2021\n",
      "Epoch 13/200\n",
      "1145/1145 [==============================] - 0s 96us/sample - loss: 0.0902 - mean_squared_error: 0.0768 - mean_absolute_error: 0.2113\n",
      "Epoch 14/200\n",
      "1145/1145 [==============================] - 0s 96us/sample - loss: 0.0857 - mean_squared_error: 0.0734 - mean_absolute_error: 0.2082\n",
      "Epoch 15/200\n",
      "1145/1145 [==============================] - 0s 96us/sample - loss: 0.0781 - mean_squared_error: 0.0670 - mean_absolute_error: 0.1971\n",
      "Epoch 16/200\n",
      "1145/1145 [==============================] - 0s 68us/sample - loss: 0.0749 - mean_squared_error: 0.0649 - mean_absolute_error: 0.1928\n",
      "Epoch 17/200\n",
      "1145/1145 [==============================] - 0s 68us/sample - loss: 0.0721 - mean_squared_error: 0.0627 - mean_absolute_error: 0.1862\n",
      "Epoch 18/200\n",
      "1145/1145 [==============================] - 0s 55us/sample - loss: 0.0668 - mean_squared_error: 0.0586 - mean_absolute_error: 0.1831\n",
      "Epoch 19/200\n",
      "1145/1145 [==============================] - 0s 55us/sample - loss: 0.0709 - mean_squared_error: 0.0637 - mean_absolute_error: 0.1924\n",
      "Epoch 20/200\n",
      "1145/1145 [==============================] - 0s 55us/sample - loss: 0.0655 - mean_squared_error: 0.0587 - mean_absolute_error: 0.1830\n",
      "Epoch 21/200\n",
      "1145/1145 [==============================] - 0s 55us/sample - loss: 0.0664 - mean_squared_error: 0.0602 - mean_absolute_error: 0.1873\n",
      "Epoch 22/200\n",
      "1145/1145 [==============================] - 0s 55us/sample - loss: 0.0602 - mean_squared_error: 0.0545 - mean_absolute_error: 0.1739\n",
      "Epoch 23/200\n",
      "1145/1145 [==============================] - 0s 55us/sample - loss: 0.0579 - mean_squared_error: 0.0528 - mean_absolute_error: 0.1741\n",
      "Epoch 24/200\n",
      "1145/1145 [==============================] - 0s 55us/sample - loss: 0.0593 - mean_squared_error: 0.0548 - mean_absolute_error: 0.1758\n",
      "Epoch 25/200\n",
      "1145/1145 [==============================] - 0s 55us/sample - loss: 0.0584 - mean_squared_error: 0.0543 - mean_absolute_error: 0.1725\n",
      "Epoch 26/200\n",
      "1145/1145 [==============================] - 0s 69us/sample - loss: 0.0543 - mean_squared_error: 0.0505 - mean_absolute_error: 0.1682\n",
      "Epoch 27/200\n",
      "1145/1145 [==============================] - 0s 96us/sample - loss: 0.0503 - mean_squared_error: 0.0470 - mean_absolute_error: 0.1650\n",
      "Epoch 28/200\n",
      "1145/1145 [==============================] - 0s 68us/sample - loss: 0.0492 - mean_squared_error: 0.0463 - mean_absolute_error: 0.1592\n",
      "Epoch 29/200\n",
      "1145/1145 [==============================] - 0s 68us/sample - loss: 0.0477 - mean_squared_error: 0.0451 - mean_absolute_error: 0.1592\n",
      "Epoch 30/200\n",
      "1145/1145 [==============================] - 0s 68us/sample - loss: 0.0486 - mean_squared_error: 0.0463 - mean_absolute_error: 0.1603\n",
      "Epoch 31/200\n",
      "1145/1145 [==============================] - 0s 55us/sample - loss: 0.0469 - mean_squared_error: 0.0448 - mean_absolute_error: 0.1576\n",
      "Epoch 32/200\n",
      "1145/1145 [==============================] - 0s 41us/sample - loss: 0.0458 - mean_squared_error: 0.0439 - mean_absolute_error: 0.1556\n",
      "Epoch 33/200\n",
      "1145/1145 [==============================] - 0s 55us/sample - loss: 0.0425 - mean_squared_error: 0.0408 - mean_absolute_error: 0.1483\n",
      "Epoch 34/200\n",
      "1145/1145 [==============================] - 0s 55us/sample - loss: 0.0437 - mean_squared_error: 0.0422 - mean_absolute_error: 0.1504\n",
      "Epoch 35/200\n",
      "1145/1145 [==============================] - 0s 68us/sample - loss: 0.0402 - mean_squared_error: 0.0389 - mean_absolute_error: 0.1431\n",
      "Epoch 36/200\n",
      "1145/1145 [==============================] - 0s 68us/sample - loss: 0.0404 - mean_squared_error: 0.0393 - mean_absolute_error: 0.1468\n",
      "Epoch 37/200\n",
      "1145/1145 [==============================] - 0s 68us/sample - loss: 0.0372 - mean_squared_error: 0.0361 - mean_absolute_error: 0.1358\n",
      "Epoch 38/200\n",
      "1145/1145 [==============================] - 0s 68us/sample - loss: 0.0402 - mean_squared_error: 0.0393 - mean_absolute_error: 0.1433\n",
      "Epoch 39/200\n",
      "1145/1145 [==============================] - 0s 55us/sample - loss: 0.0386 - mean_squared_error: 0.0377 - mean_absolute_error: 0.1393\n",
      "Epoch 40/200\n",
      "1145/1145 [==============================] - 0s 55us/sample - loss: 0.0357 - mean_squared_error: 0.0349 - mean_absolute_error: 0.1346\n",
      "Epoch 41/200\n",
      "1145/1145 [==============================] - 0s 55us/sample - loss: 0.0349 - mean_squared_error: 0.0343 - mean_absolute_error: 0.1318\n",
      "Epoch 42/200\n",
      "1145/1145 [==============================] - 0s 41us/sample - loss: 0.0330 - mean_squared_error: 0.0325 - mean_absolute_error: 0.1268\n",
      "Epoch 43/200\n",
      "1145/1145 [==============================] - 0s 55us/sample - loss: 0.0327 - mean_squared_error: 0.0323 - mean_absolute_error: 0.1270\n",
      "Epoch 44/200\n",
      "1145/1145 [==============================] - 0s 55us/sample - loss: 0.0339 - mean_squared_error: 0.0335 - mean_absolute_error: 0.1300\n",
      "Epoch 45/200\n",
      "1145/1145 [==============================] - 0s 55us/sample - loss: 0.0325 - mean_squared_error: 0.0321 - mean_absolute_error: 0.1290\n",
      "Epoch 46/200\n",
      "1145/1145 [==============================] - 0s 55us/sample - loss: 0.0306 - mean_squared_error: 0.0302 - mean_absolute_error: 0.1233\n",
      "Epoch 47/200\n",
      "1145/1145 [==============================] - 0s 55us/sample - loss: 0.0312 - mean_squared_error: 0.0309 - mean_absolute_error: 0.1239\n",
      "Epoch 48/200\n",
      "1145/1145 [==============================] - 0s 41us/sample - loss: 0.0319 - mean_squared_error: 0.0316 - mean_absolute_error: 0.1262\n",
      "Epoch 49/200\n",
      "1145/1145 [==============================] - 0s 41us/sample - loss: 0.0299 - mean_squared_error: 0.0296 - mean_absolute_error: 0.1183\n",
      "Epoch 50/200\n",
      "1145/1145 [==============================] - 0s 41us/sample - loss: 0.0294 - mean_squared_error: 0.0292 - mean_absolute_error: 0.1190\n",
      "Epoch 51/200\n",
      "1145/1145 [==============================] - 0s 55us/sample - loss: 0.0292 - mean_squared_error: 0.0290 - mean_absolute_error: 0.1161\n",
      "Epoch 52/200\n",
      "1145/1145 [==============================] - 0s 68us/sample - loss: 0.0304 - mean_squared_error: 0.0302 - mean_absolute_error: 0.1179\n",
      "Epoch 53/200\n",
      "1145/1145 [==============================] - 0s 68us/sample - loss: 0.0290 - mean_squared_error: 0.0288 - mean_absolute_error: 0.1173\n",
      "Epoch 54/200\n",
      "1145/1145 [==============================] - 0s 55us/sample - loss: 0.0273 - mean_squared_error: 0.0272 - mean_absolute_error: 0.1134\n",
      "Epoch 55/200\n",
      "1145/1145 [==============================] - 0s 55us/sample - loss: 0.0281 - mean_squared_error: 0.0279 - mean_absolute_error: 0.1131\n",
      "Epoch 56/200\n",
      "1145/1145 [==============================] - 0s 55us/sample - loss: 0.0291 - mean_squared_error: 0.0290 - mean_absolute_error: 0.1157\n",
      "Epoch 57/200\n",
      "1145/1145 [==============================] - 0s 55us/sample - loss: 0.0268 - mean_squared_error: 0.0267 - mean_absolute_error: 0.1097\n",
      "Epoch 58/200\n",
      "1145/1145 [==============================] - 0s 41us/sample - loss: 0.0259 - mean_squared_error: 0.0258 - mean_absolute_error: 0.1063\n",
      "Epoch 59/200\n",
      "1145/1145 [==============================] - 0s 41us/sample - loss: 0.0259 - mean_squared_error: 0.0259 - mean_absolute_error: 0.1071\n",
      "Epoch 60/200\n",
      "1145/1145 [==============================] - 0s 55us/sample - loss: 0.0263 - mean_squared_error: 0.0262 - mean_absolute_error: 0.1080\n",
      "Epoch 61/200\n",
      "1145/1145 [==============================] - 0s 41us/sample - loss: 0.0261 - mean_squared_error: 0.0261 - mean_absolute_error: 0.1059\n",
      "Epoch 62/200\n",
      "1145/1145 [==============================] - 0s 41us/sample - loss: 0.0250 - mean_squared_error: 0.0249 - mean_absolute_error: 0.1039\n",
      "Epoch 63/200\n",
      "1145/1145 [==============================] - 0s 41us/sample - loss: 0.0259 - mean_squared_error: 0.0258 - mean_absolute_error: 0.1044\n",
      "Epoch 64/200\n",
      "1145/1145 [==============================] - 0s 41us/sample - loss: 0.0241 - mean_squared_error: 0.0240 - mean_absolute_error: 0.1020\n",
      "Epoch 65/200\n",
      "1145/1145 [==============================] - 0s 55us/sample - loss: 0.0254 - mean_squared_error: 0.0253 - mean_absolute_error: 0.1038\n",
      "Epoch 66/200\n",
      "1145/1145 [==============================] - 0s 41us/sample - loss: 0.0240 - mean_squared_error: 0.0240 - mean_absolute_error: 0.1002\n",
      "Epoch 67/200\n",
      "1145/1145 [==============================] - 0s 41us/sample - loss: 0.0252 - mean_squared_error: 0.0252 - mean_absolute_error: 0.1034\n",
      "Epoch 68/200\n",
      "1145/1145 [==============================] - 0s 68us/sample - loss: 0.0245 - mean_squared_error: 0.0245 - mean_absolute_error: 0.1002\n",
      "Epoch 69/200\n",
      "1145/1145 [==============================] - 0s 55us/sample - loss: 0.0247 - mean_squared_error: 0.0247 - mean_absolute_error: 0.0995\n",
      "Epoch 70/200\n",
      "1145/1145 [==============================] - 0s 68us/sample - loss: 0.0250 - mean_squared_error: 0.0250 - mean_absolute_error: 0.1030\n",
      "Epoch 71/200\n",
      "1145/1145 [==============================] - 0s 55us/sample - loss: 0.0245 - mean_squared_error: 0.0245 - mean_absolute_error: 0.1010\n",
      "Epoch 72/200\n",
      "1145/1145 [==============================] - 0s 55us/sample - loss: 0.0240 - mean_squared_error: 0.0239 - mean_absolute_error: 0.0988\n",
      "Epoch 73/200\n",
      "1145/1145 [==============================] - 0s 55us/sample - loss: 0.0237 - mean_squared_error: 0.0237 - mean_absolute_error: 0.0979\n",
      "Epoch 74/200\n",
      "1145/1145 [==============================] - 0s 41us/sample - loss: 0.0239 - mean_squared_error: 0.0239 - mean_absolute_error: 0.0980\n",
      "Epoch 75/200\n",
      "1145/1145 [==============================] - 0s 41us/sample - loss: 0.0240 - mean_squared_error: 0.0240 - mean_absolute_error: 0.0979\n",
      "Epoch 76/200\n",
      "1145/1145 [==============================] - 0s 41us/sample - loss: 0.0239 - mean_squared_error: 0.0238 - mean_absolute_error: 0.0978\n",
      "Epoch 77/200\n",
      "1145/1145 [==============================] - 0s 41us/sample - loss: 0.0240 - mean_squared_error: 0.0239 - mean_absolute_error: 0.0970\n",
      "Epoch 78/200\n",
      "1145/1145 [==============================] - 0s 41us/sample - loss: 0.0240 - mean_squared_error: 0.0240 - mean_absolute_error: 0.0965\n",
      "Epoch 79/200\n",
      "1145/1145 [==============================] - 0s 55us/sample - loss: 0.0237 - mean_squared_error: 0.0237 - mean_absolute_error: 0.0962\n",
      "Epoch 80/200\n",
      "1145/1145 [==============================] - 0s 41us/sample - loss: 0.0237 - mean_squared_error: 0.0237 - mean_absolute_error: 0.0966\n",
      "Epoch 81/200\n",
      "1145/1145 [==============================] - 0s 55us/sample - loss: 0.0232 - mean_squared_error: 0.0232 - mean_absolute_error: 0.0948\n",
      "Epoch 82/200\n",
      "1145/1145 [==============================] - 0s 41us/sample - loss: 0.0237 - mean_squared_error: 0.0237 - mean_absolute_error: 0.0962\n",
      "Epoch 83/200\n",
      "1145/1145 [==============================] - 0s 41us/sample - loss: 0.0233 - mean_squared_error: 0.0233 - mean_absolute_error: 0.0957\n",
      "Epoch 84/200\n",
      "1145/1145 [==============================] - 0s 41us/sample - loss: 0.0237 - mean_squared_error: 0.0237 - mean_absolute_error: 0.0957\n",
      "Epoch 85/200\n",
      "1145/1145 [==============================] - 0s 41us/sample - loss: 0.0237 - mean_squared_error: 0.0237 - mean_absolute_error: 0.0957\n",
      "Epoch 86/200\n",
      "1145/1145 [==============================] - 0s 41us/sample - loss: 0.0232 - mean_squared_error: 0.0232 - mean_absolute_error: 0.0947\n",
      "Epoch 87/200\n",
      "1145/1145 [==============================] - 0s 41us/sample - loss: 0.0232 - mean_squared_error: 0.0232 - mean_absolute_error: 0.0945\n",
      "Epoch 88/200\n",
      "1145/1145 [==============================] - 0s 41us/sample - loss: 0.0233 - mean_squared_error: 0.0233 - mean_absolute_error: 0.0940\n",
      "Epoch 89/200\n",
      "1145/1145 [==============================] - 0s 41us/sample - loss: 0.0228 - mean_squared_error: 0.0228 - mean_absolute_error: 0.0935\n",
      "Epoch 90/200\n",
      "1145/1145 [==============================] - 0s 41us/sample - loss: 0.0235 - mean_squared_error: 0.0235 - mean_absolute_error: 0.0945\n",
      "Epoch 91/200\n",
      "1145/1145 [==============================] - 0s 41us/sample - loss: 0.0232 - mean_squared_error: 0.0232 - mean_absolute_error: 0.0932\n",
      "Epoch 92/200\n",
      "1145/1145 [==============================] - 0s 41us/sample - loss: 0.0234 - mean_squared_error: 0.0234 - mean_absolute_error: 0.0946\n",
      "Epoch 93/200\n",
      "1145/1145 [==============================] - 0s 41us/sample - loss: 0.0231 - mean_squared_error: 0.0231 - mean_absolute_error: 0.0940\n",
      "Epoch 94/200\n",
      "1145/1145 [==============================] - 0s 41us/sample - loss: 0.0232 - mean_squared_error: 0.0232 - mean_absolute_error: 0.0946\n",
      "Epoch 95/200\n",
      "1145/1145 [==============================] - 0s 41us/sample - loss: 0.0228 - mean_squared_error: 0.0228 - mean_absolute_error: 0.0927\n",
      "Epoch 96/200\n",
      "1145/1145 [==============================] - 0s 55us/sample - loss: 0.0230 - mean_squared_error: 0.0230 - mean_absolute_error: 0.0944\n",
      "Epoch 97/200\n",
      "1145/1145 [==============================] - 0s 41us/sample - loss: 0.0230 - mean_squared_error: 0.0230 - mean_absolute_error: 0.0932\n",
      "Epoch 98/200\n",
      "1145/1145 [==============================] - 0s 41us/sample - loss: 0.0230 - mean_squared_error: 0.0230 - mean_absolute_error: 0.0935\n",
      "Epoch 99/200\n",
      "1145/1145 [==============================] - 0s 55us/sample - loss: 0.0229 - mean_squared_error: 0.0229 - mean_absolute_error: 0.0932\n",
      "Epoch 100/200\n",
      "1145/1145 [==============================] - 0s 41us/sample - loss: 0.0232 - mean_squared_error: 0.0232 - mean_absolute_error: 0.0944\n",
      "Epoch 101/200\n",
      "1145/1145 [==============================] - 0s 41us/sample - loss: 0.0230 - mean_squared_error: 0.0230 - mean_absolute_error: 0.0928\n",
      "Epoch 102/200\n",
      "1145/1145 [==============================] - 0s 41us/sample - loss: 0.0229 - mean_squared_error: 0.0229 - mean_absolute_error: 0.0935\n",
      "Epoch 103/200\n",
      "1145/1145 [==============================] - 0s 55us/sample - loss: 0.0231 - mean_squared_error: 0.0231 - mean_absolute_error: 0.0940\n",
      "Epoch 104/200\n"
     ]
    },
    {
     "name": "stdout",
     "output_type": "stream",
     "text": [
      "1145/1145 [==============================] - 0s 41us/sample - loss: 0.0230 - mean_squared_error: 0.0230 - mean_absolute_error: 0.0930\n",
      "Epoch 105/200\n",
      "1145/1145 [==============================] - 0s 55us/sample - loss: 0.0230 - mean_squared_error: 0.0230 - mean_absolute_error: 0.0942\n",
      "Epoch 106/200\n",
      "1145/1145 [==============================] - 0s 41us/sample - loss: 0.0228 - mean_squared_error: 0.0228 - mean_absolute_error: 0.0928\n",
      "Epoch 107/200\n",
      "1145/1145 [==============================] - 0s 41us/sample - loss: 0.0230 - mean_squared_error: 0.0230 - mean_absolute_error: 0.0937\n",
      "Epoch 108/200\n",
      "1145/1145 [==============================] - 0s 41us/sample - loss: 0.0229 - mean_squared_error: 0.0229 - mean_absolute_error: 0.0929\n",
      "Epoch 109/200\n",
      "1145/1145 [==============================] - 0s 41us/sample - loss: 0.0230 - mean_squared_error: 0.0230 - mean_absolute_error: 0.0930\n",
      "Epoch 110/200\n",
      "1145/1145 [==============================] - 0s 41us/sample - loss: 0.0228 - mean_squared_error: 0.0228 - mean_absolute_error: 0.0929\n",
      "Epoch 111/200\n",
      "1145/1145 [==============================] - 0s 41us/sample - loss: 0.0229 - mean_squared_error: 0.0229 - mean_absolute_error: 0.0928\n",
      "Epoch 112/200\n",
      "1145/1145 [==============================] - 0s 41us/sample - loss: 0.0228 - mean_squared_error: 0.0228 - mean_absolute_error: 0.0934\n",
      "Epoch 113/200\n",
      "1145/1145 [==============================] - 0s 41us/sample - loss: 0.0229 - mean_squared_error: 0.0229 - mean_absolute_error: 0.0926\n",
      "Epoch 114/200\n",
      "1145/1145 [==============================] - 0s 55us/sample - loss: 0.0228 - mean_squared_error: 0.0228 - mean_absolute_error: 0.0934\n",
      "Epoch 115/200\n",
      "1145/1145 [==============================] - 0s 41us/sample - loss: 0.0229 - mean_squared_error: 0.0229 - mean_absolute_error: 0.0930\n",
      "Epoch 116/200\n",
      "1145/1145 [==============================] - 0s 41us/sample - loss: 0.0229 - mean_squared_error: 0.0229 - mean_absolute_error: 0.0929\n",
      "Epoch 117/200\n",
      "1145/1145 [==============================] - 0s 55us/sample - loss: 0.0228 - mean_squared_error: 0.0228 - mean_absolute_error: 0.0928\n",
      "Epoch 118/200\n",
      "1145/1145 [==============================] - 0s 41us/sample - loss: 0.0228 - mean_squared_error: 0.0228 - mean_absolute_error: 0.0925\n",
      "Epoch 119/200\n",
      "1145/1145 [==============================] - 0s 41us/sample - loss: 0.0228 - mean_squared_error: 0.0228 - mean_absolute_error: 0.0930\n",
      "Epoch 120/200\n",
      "1145/1145 [==============================] - 0s 41us/sample - loss: 0.0229 - mean_squared_error: 0.0229 - mean_absolute_error: 0.0928\n",
      "Epoch 121/200\n",
      "1145/1145 [==============================] - 0s 41us/sample - loss: 0.0229 - mean_squared_error: 0.0229 - mean_absolute_error: 0.0932\n",
      "Epoch 122/200\n",
      "1145/1145 [==============================] - 0s 41us/sample - loss: 0.0228 - mean_squared_error: 0.0228 - mean_absolute_error: 0.0923\n",
      "Epoch 123/200\n",
      "1145/1145 [==============================] - 0s 41us/sample - loss: 0.0228 - mean_squared_error: 0.0228 - mean_absolute_error: 0.0939\n",
      "Epoch 124/200\n",
      "1145/1145 [==============================] - 0s 41us/sample - loss: 0.0229 - mean_squared_error: 0.0229 - mean_absolute_error: 0.0927\n",
      "Epoch 125/200\n",
      "1145/1145 [==============================] - 0s 41us/sample - loss: 0.0228 - mean_squared_error: 0.0228 - mean_absolute_error: 0.0930\n",
      "Epoch 126/200\n",
      "1145/1145 [==============================] - 0s 41us/sample - loss: 0.0228 - mean_squared_error: 0.0228 - mean_absolute_error: 0.0930\n",
      "Epoch 127/200\n",
      "1145/1145 [==============================] - 0s 43us/sample - loss: 0.0228 - mean_squared_error: 0.0228 - mean_absolute_error: 0.0928\n",
      "Epoch 128/200\n",
      "1145/1145 [==============================] - 0s 41us/sample - loss: 0.0228 - mean_squared_error: 0.0228 - mean_absolute_error: 0.0931\n",
      "Epoch 129/200\n",
      "1145/1145 [==============================] - 0s 41us/sample - loss: 0.0229 - mean_squared_error: 0.0229 - mean_absolute_error: 0.0926\n",
      "Epoch 130/200\n",
      "1145/1145 [==============================] - 0s 41us/sample - loss: 0.0228 - mean_squared_error: 0.0228 - mean_absolute_error: 0.0931\n",
      "Epoch 131/200\n",
      "1145/1145 [==============================] - 0s 41us/sample - loss: 0.0228 - mean_squared_error: 0.0228 - mean_absolute_error: 0.0927\n",
      "Epoch 132/200\n",
      "1145/1145 [==============================] - 0s 41us/sample - loss: 0.0228 - mean_squared_error: 0.0228 - mean_absolute_error: 0.0927\n",
      "Epoch 133/200\n",
      "1145/1145 [==============================] - 0s 41us/sample - loss: 0.0228 - mean_squared_error: 0.0228 - mean_absolute_error: 0.0933\n",
      "Epoch 134/200\n",
      "1145/1145 [==============================] - 0s 41us/sample - loss: 0.0228 - mean_squared_error: 0.0228 - mean_absolute_error: 0.0930\n",
      "Epoch 135/200\n",
      "1145/1145 [==============================] - 0s 41us/sample - loss: 0.0228 - mean_squared_error: 0.0228 - mean_absolute_error: 0.0925\n",
      "Epoch 136/200\n",
      "1145/1145 [==============================] - 0s 41us/sample - loss: 0.0228 - mean_squared_error: 0.0228 - mean_absolute_error: 0.0933\n",
      "Epoch 137/200\n",
      "1145/1145 [==============================] - 0s 41us/sample - loss: 0.0228 - mean_squared_error: 0.0228 - mean_absolute_error: 0.0929\n",
      "Epoch 138/200\n",
      "1145/1145 [==============================] - 0s 55us/sample - loss: 0.0228 - mean_squared_error: 0.0228 - mean_absolute_error: 0.0933\n",
      "Epoch 139/200\n",
      "1145/1145 [==============================] - 0s 41us/sample - loss: 0.0228 - mean_squared_error: 0.0228 - mean_absolute_error: 0.0930\n",
      "Epoch 140/200\n",
      "1145/1145 [==============================] - 0s 41us/sample - loss: 0.0228 - mean_squared_error: 0.0228 - mean_absolute_error: 0.0925\n",
      "Epoch 141/200\n",
      "1145/1145 [==============================] - 0s 41us/sample - loss: 0.0229 - mean_squared_error: 0.0229 - mean_absolute_error: 0.0934\n",
      "Epoch 142/200\n",
      "1145/1145 [==============================] - 0s 41us/sample - loss: 0.0229 - mean_squared_error: 0.0229 - mean_absolute_error: 0.0927\n",
      "Epoch 143/200\n",
      "1145/1145 [==============================] - 0s 41us/sample - loss: 0.0228 - mean_squared_error: 0.0228 - mean_absolute_error: 0.0930\n",
      "Epoch 144/200\n",
      "1145/1145 [==============================] - 0s 55us/sample - loss: 0.0228 - mean_squared_error: 0.0228 - mean_absolute_error: 0.0927\n",
      "Epoch 145/200\n",
      "1145/1145 [==============================] - 0s 41us/sample - loss: 0.0228 - mean_squared_error: 0.0228 - mean_absolute_error: 0.0931\n",
      "Epoch 146/200\n",
      "1145/1145 [==============================] - 0s 44us/sample - loss: 0.0228 - mean_squared_error: 0.0228 - mean_absolute_error: 0.0926\n",
      "Epoch 147/200\n",
      "1145/1145 [==============================] - 0s 41us/sample - loss: 0.0228 - mean_squared_error: 0.0228 - mean_absolute_error: 0.0939\n",
      "Epoch 148/200\n",
      "1145/1145 [==============================] - 0s 41us/sample - loss: 0.0228 - mean_squared_error: 0.0228 - mean_absolute_error: 0.0929\n",
      "Epoch 149/200\n",
      "1145/1145 [==============================] - 0s 41us/sample - loss: 0.0227 - mean_squared_error: 0.0227 - mean_absolute_error: 0.0926\n",
      "Epoch 150/200\n",
      "1145/1145 [==============================] - 0s 55us/sample - loss: 0.0228 - mean_squared_error: 0.0228 - mean_absolute_error: 0.0924\n",
      "Epoch 151/200\n",
      "1145/1145 [==============================] - 0s 41us/sample - loss: 0.0228 - mean_squared_error: 0.0228 - mean_absolute_error: 0.0931\n",
      "Epoch 152/200\n",
      "1145/1145 [==============================] - 0s 41us/sample - loss: 0.0229 - mean_squared_error: 0.0229 - mean_absolute_error: 0.0932\n",
      "Epoch 153/200\n",
      "1145/1145 [==============================] - 0s 41us/sample - loss: 0.0228 - mean_squared_error: 0.0228 - mean_absolute_error: 0.0928\n",
      "Epoch 154/200\n",
      "1145/1145 [==============================] - 0s 55us/sample - loss: 0.0228 - mean_squared_error: 0.0228 - mean_absolute_error: 0.0925\n",
      "Epoch 155/200\n",
      "1145/1145 [==============================] - 0s 41us/sample - loss: 0.0229 - mean_squared_error: 0.0229 - mean_absolute_error: 0.0941\n",
      "Epoch 156/200\n",
      "1145/1145 [==============================] - 0s 55us/sample - loss: 0.0229 - mean_squared_error: 0.0229 - mean_absolute_error: 0.0928\n",
      "Epoch 157/200\n",
      "1145/1145 [==============================] - 0s 55us/sample - loss: 0.0228 - mean_squared_error: 0.0228 - mean_absolute_error: 0.0924\n",
      "Epoch 158/200\n",
      "1145/1145 [==============================] - 0s 55us/sample - loss: 0.0228 - mean_squared_error: 0.0228 - mean_absolute_error: 0.0934\n",
      "Epoch 159/200\n",
      "1145/1145 [==============================] - 0s 41us/sample - loss: 0.0228 - mean_squared_error: 0.0228 - mean_absolute_error: 0.0931\n",
      "Epoch 160/200\n",
      "1145/1145 [==============================] - 0s 55us/sample - loss: 0.0228 - mean_squared_error: 0.0228 - mean_absolute_error: 0.0928\n",
      "Epoch 161/200\n",
      "1145/1145 [==============================] - 0s 41us/sample - loss: 0.0228 - mean_squared_error: 0.0228 - mean_absolute_error: 0.0925\n",
      "Epoch 162/200\n",
      "1145/1145 [==============================] - 0s 41us/sample - loss: 0.0228 - mean_squared_error: 0.0228 - mean_absolute_error: 0.0938\n",
      "Epoch 163/200\n",
      "1145/1145 [==============================] - 0s 41us/sample - loss: 0.0228 - mean_squared_error: 0.0228 - mean_absolute_error: 0.0925\n",
      "Epoch 164/200\n",
      "1145/1145 [==============================] - 0s 41us/sample - loss: 0.0228 - mean_squared_error: 0.0228 - mean_absolute_error: 0.0931\n",
      "Epoch 165/200\n",
      "1145/1145 [==============================] - 0s 55us/sample - loss: 0.0228 - mean_squared_error: 0.0228 - mean_absolute_error: 0.0934\n",
      "Epoch 166/200\n",
      "1145/1145 [==============================] - 0s 41us/sample - loss: 0.0228 - mean_squared_error: 0.0228 - mean_absolute_error: 0.0926\n",
      "Epoch 167/200\n",
      "1145/1145 [==============================] - 0s 41us/sample - loss: 0.0228 - mean_squared_error: 0.0228 - mean_absolute_error: 0.0930\n",
      "Epoch 168/200\n",
      "1145/1145 [==============================] - 0s 55us/sample - loss: 0.0228 - mean_squared_error: 0.0228 - mean_absolute_error: 0.0930\n",
      "Epoch 169/200\n",
      "1145/1145 [==============================] - 0s 41us/sample - loss: 0.0228 - mean_squared_error: 0.0228 - mean_absolute_error: 0.0930\n",
      "Epoch 170/200\n",
      "1145/1145 [==============================] - 0s 41us/sample - loss: 0.0228 - mean_squared_error: 0.0228 - mean_absolute_error: 0.0930\n",
      "Epoch 171/200\n",
      "1145/1145 [==============================] - 0s 41us/sample - loss: 0.0228 - mean_squared_error: 0.0228 - mean_absolute_error: 0.0928\n",
      "Epoch 172/200\n",
      "1145/1145 [==============================] - 0s 41us/sample - loss: 0.0228 - mean_squared_error: 0.0228 - mean_absolute_error: 0.0929\n",
      "Epoch 173/200\n",
      "1145/1145 [==============================] - 0s 41us/sample - loss: 0.0228 - mean_squared_error: 0.0228 - mean_absolute_error: 0.0927\n",
      "Epoch 174/200\n",
      "1145/1145 [==============================] - 0s 41us/sample - loss: 0.0228 - mean_squared_error: 0.0228 - mean_absolute_error: 0.0931\n",
      "Epoch 175/200\n",
      "1145/1145 [==============================] - 0s 41us/sample - loss: 0.0228 - mean_squared_error: 0.0228 - mean_absolute_error: 0.0929\n",
      "Epoch 176/200\n",
      "1145/1145 [==============================] - 0s 41us/sample - loss: 0.0229 - mean_squared_error: 0.0229 - mean_absolute_error: 0.0936\n",
      "Epoch 177/200\n",
      "1145/1145 [==============================] - 0s 41us/sample - loss: 0.0229 - mean_squared_error: 0.0229 - mean_absolute_error: 0.0930\n",
      "Epoch 178/200\n",
      "1145/1145 [==============================] - 0s 41us/sample - loss: 0.0228 - mean_squared_error: 0.0228 - mean_absolute_error: 0.0925\n",
      "Epoch 179/200\n",
      "1145/1145 [==============================] - 0s 41us/sample - loss: 0.0228 - mean_squared_error: 0.0228 - mean_absolute_error: 0.0935\n",
      "Epoch 180/200\n",
      "1145/1145 [==============================] - 0s 41us/sample - loss: 0.0228 - mean_squared_error: 0.0228 - mean_absolute_error: 0.0926\n",
      "Epoch 181/200\n",
      "1145/1145 [==============================] - 0s 41us/sample - loss: 0.0228 - mean_squared_error: 0.0228 - mean_absolute_error: 0.0930\n",
      "Epoch 182/200\n",
      "1145/1145 [==============================] - 0s 41us/sample - loss: 0.0228 - mean_squared_error: 0.0228 - mean_absolute_error: 0.0928\n",
      "Epoch 183/200\n",
      "1145/1145 [==============================] - 0s 50us/sample - loss: 0.0229 - mean_squared_error: 0.0229 - mean_absolute_error: 0.0934\n",
      "Epoch 184/200\n",
      "1145/1145 [==============================] - 0s 41us/sample - loss: 0.0228 - mean_squared_error: 0.0228 - mean_absolute_error: 0.0927\n",
      "Epoch 185/200\n",
      "1145/1145 [==============================] - 0s 42us/sample - loss: 0.0228 - mean_squared_error: 0.0228 - mean_absolute_error: 0.0931\n",
      "Epoch 186/200\n",
      "1145/1145 [==============================] - 0s 41us/sample - loss: 0.0228 - mean_squared_error: 0.0228 - mean_absolute_error: 0.0932\n",
      "Epoch 187/200\n",
      "1145/1145 [==============================] - 0s 41us/sample - loss: 0.0228 - mean_squared_error: 0.0228 - mean_absolute_error: 0.0927\n",
      "Epoch 188/200\n",
      "1145/1145 [==============================] - 0s 41us/sample - loss: 0.0228 - mean_squared_error: 0.0228 - mean_absolute_error: 0.0936\n",
      "Epoch 189/200\n",
      "1145/1145 [==============================] - 0s 41us/sample - loss: 0.0228 - mean_squared_error: 0.0228 - mean_absolute_error: 0.0926\n",
      "Epoch 190/200\n",
      "1145/1145 [==============================] - 0s 55us/sample - loss: 0.0228 - mean_squared_error: 0.0228 - mean_absolute_error: 0.0933\n",
      "Epoch 191/200\n",
      "1145/1145 [==============================] - 0s 41us/sample - loss: 0.0228 - mean_squared_error: 0.0228 - mean_absolute_error: 0.0926\n",
      "Epoch 192/200\n",
      "1145/1145 [==============================] - 0s 41us/sample - loss: 0.0228 - mean_squared_error: 0.0228 - mean_absolute_error: 0.0938\n",
      "Epoch 193/200\n",
      "1145/1145 [==============================] - 0s 41us/sample - loss: 0.0228 - mean_squared_error: 0.0228 - mean_absolute_error: 0.0926\n",
      "Epoch 194/200\n",
      "1145/1145 [==============================] - 0s 41us/sample - loss: 0.0228 - mean_squared_error: 0.0228 - mean_absolute_error: 0.0931\n",
      "Epoch 195/200\n",
      "1145/1145 [==============================] - 0s 41us/sample - loss: 0.0228 - mean_squared_error: 0.0228 - mean_absolute_error: 0.0926\n",
      "Epoch 196/200\n",
      "1145/1145 [==============================] - 0s 41us/sample - loss: 0.0228 - mean_squared_error: 0.0228 - mean_absolute_error: 0.0931\n",
      "Epoch 197/200\n",
      "1145/1145 [==============================] - 0s 41us/sample - loss: 0.0228 - mean_squared_error: 0.0228 - mean_absolute_error: 0.0931\n",
      "Epoch 198/200\n",
      "1145/1145 [==============================] - 0s 55us/sample - loss: 0.0228 - mean_squared_error: 0.0228 - mean_absolute_error: 0.0927\n",
      "Epoch 199/200\n",
      "1145/1145 [==============================] - 0s 41us/sample - loss: 0.0229 - mean_squared_error: 0.0229 - mean_absolute_error: 0.0927\n",
      "Epoch 200/200\n",
      "1145/1145 [==============================] - 0s 41us/sample - loss: 0.0228 - mean_squared_error: 0.0228 - mean_absolute_error: 0.0935\n"
     ]
    },
    {
     "data": {
      "text/plain": [
       "<tensorflow.python.keras.callbacks.History at 0x12d7bb5a7f0>"
      ]
     },
     "execution_count": 14,
     "metadata": {},
     "output_type": "execute_result"
    }
   ],
   "source": [
    "\n",
    "tf.reset_default_graph()\n",
    "model = create_model_use()\n",
    "model.summary()\n",
    "\n",
    "model.compile(optimizer='adam', loss='mse', metrics=['mse','mae'])\n",
    "\n",
    "model.fit(x_train, y_train, epochs=200)"
   ]
  },
  {
   "cell_type": "code",
   "execution_count": 15,
   "metadata": {},
   "outputs": [
    {
     "name": "stdout",
     "output_type": "stream",
     "text": [
      "0.15092850222728835\n",
      "0.15203871075994516\n"
     ]
    }
   ],
   "source": [
    "print( np.sqrt( mean_squared_error(y_train, model.predict(x_train)) ) )\n",
    "print( np.sqrt( mean_squared_error(y_dev, model.predict(x_dev)) ) )"
   ]
  },
  {
   "cell_type": "code",
   "execution_count": 16,
   "metadata": {},
   "outputs": [
    {
     "name": "stdout",
     "output_type": "stream",
     "text": [
      "0.15128836169147417\n",
      "0.15246748337145208\n"
     ]
    }
   ],
   "source": [
    "print( np.sqrt( mean_squared_error(y_train, 0*y_train) ) )\n",
    "print( np.sqrt( mean_squared_error(y_dev, 0*y_dev) ) )"
   ]
  },
  {
   "cell_type": "code",
   "execution_count": null,
   "metadata": {},
   "outputs": [],
   "source": []
  },
  {
   "cell_type": "markdown",
   "metadata": {},
   "source": [
    "## Conclusion\n",
    "\n",
    "\n",
    "Guess 0:\n",
    "- Train error: 15.13\n",
    "- Dev error: 15.25\n",
    "- Test error: 15.26\n",
    "\n",
    "LSTM model with twitter embedding:\n",
    "- Train error: 14.95\n",
    "- Dev error: 15.21\n",
    "- Test error: 15.40\n",
    "\n",
    "USE model:\n",
    "- Train error: 15.09\n",
    "- Dev error 15.20\n",
    "- Test error: 15.31"
   ]
  },
  {
   "cell_type": "code",
   "execution_count": null,
   "metadata": {},
   "outputs": [],
   "source": []
  },
  {
   "cell_type": "code",
   "execution_count": 17,
   "metadata": {},
   "outputs": [],
   "source": [
    "# save model\n",
    "savepath = 'MODEL_USE_embed.h5'\n",
    "model.save(savepath)"
   ]
  },
  {
   "cell_type": "code",
   "execution_count": 7,
   "metadata": {},
   "outputs": [
    {
     "name": "stdout",
     "output_type": "stream",
     "text": [
      "WARNING:tensorflow:From C:\\Users\\Basil\\Anaconda3\\lib\\site-packages\\tensorflow_core\\python\\ops\\init_ops.py:97: calling GlorotUniform.__init__ (from tensorflow.python.ops.init_ops) with dtype is deprecated and will be removed in a future version.\n",
      "Instructions for updating:\n",
      "Call initializer instance with the dtype argument instead of passing it to the constructor\n"
     ]
    },
    {
     "name": "stderr",
     "output_type": "stream",
     "text": [
      "WARNING:tensorflow:From C:\\Users\\Basil\\Anaconda3\\lib\\site-packages\\tensorflow_core\\python\\ops\\init_ops.py:97: calling GlorotUniform.__init__ (from tensorflow.python.ops.init_ops) with dtype is deprecated and will be removed in a future version.\n",
      "Instructions for updating:\n",
      "Call initializer instance with the dtype argument instead of passing it to the constructor\n"
     ]
    },
    {
     "name": "stdout",
     "output_type": "stream",
     "text": [
      "WARNING:tensorflow:From C:\\Users\\Basil\\Anaconda3\\lib\\site-packages\\tensorflow_core\\python\\ops\\init_ops.py:97: calling Zeros.__init__ (from tensorflow.python.ops.init_ops) with dtype is deprecated and will be removed in a future version.\n",
      "Instructions for updating:\n",
      "Call initializer instance with the dtype argument instead of passing it to the constructor\n"
     ]
    },
    {
     "name": "stderr",
     "output_type": "stream",
     "text": [
      "WARNING:tensorflow:From C:\\Users\\Basil\\Anaconda3\\lib\\site-packages\\tensorflow_core\\python\\ops\\init_ops.py:97: calling Zeros.__init__ (from tensorflow.python.ops.init_ops) with dtype is deprecated and will be removed in a future version.\n",
      "Instructions for updating:\n",
      "Call initializer instance with the dtype argument instead of passing it to the constructor\n"
     ]
    },
    {
     "name": "stdout",
     "output_type": "stream",
     "text": [
      "WARNING:tensorflow:From C:\\Users\\Basil\\Anaconda3\\lib\\site-packages\\tensorflow_core\\python\\ops\\resource_variable_ops.py:1630: calling BaseResourceVariable.__init__ (from tensorflow.python.ops.resource_variable_ops) with constraint is deprecated and will be removed in a future version.\n",
      "Instructions for updating:\n",
      "If using Keras pass *_constraint arguments to layers.\n"
     ]
    },
    {
     "name": "stderr",
     "output_type": "stream",
     "text": [
      "WARNING:tensorflow:From C:\\Users\\Basil\\Anaconda3\\lib\\site-packages\\tensorflow_core\\python\\ops\\resource_variable_ops.py:1630: calling BaseResourceVariable.__init__ (from tensorflow.python.ops.resource_variable_ops) with constraint is deprecated and will be removed in a future version.\n",
      "Instructions for updating:\n",
      "If using Keras pass *_constraint arguments to layers.\n"
     ]
    },
    {
     "name": "stdout",
     "output_type": "stream",
     "text": [
      "Model: \"model\"\n",
      "_________________________________________________________________\n",
      "Layer (type)                 Output Shape              Param #   \n",
      "=================================================================\n",
      "input_1 (InputLayer)         [(None, 512)]             0         \n",
      "_________________________________________________________________\n",
      "dropout (Dropout)            (None, 512)               0         \n",
      "_________________________________________________________________\n",
      "dense (Dense)                (None, 4)                 2052      \n",
      "_________________________________________________________________\n",
      "dropout_1 (Dropout)          (None, 4)                 0         \n",
      "_________________________________________________________________\n",
      "dense_1 (Dense)              (None, 1)                 5         \n",
      "=================================================================\n",
      "Total params: 2,057\n",
      "Trainable params: 2,057\n",
      "Non-trainable params: 0\n",
      "_________________________________________________________________\n"
     ]
    }
   ],
   "source": [
    "load_path = 'MODEL_USE_embed.h5'\n",
    "model = keras.models.load_model(load_path)\n",
    "model.summary()"
   ]
  },
  {
   "cell_type": "code",
   "execution_count": null,
   "metadata": {},
   "outputs": [],
   "source": []
  },
  {
   "cell_type": "code",
   "execution_count": 8,
   "metadata": {},
   "outputs": [
    {
     "name": "stdout",
     "output_type": "stream",
     "text": [
      "INFO:tensorflow:Saver not created because there are no variables in the graph to restore\n"
     ]
    },
    {
     "name": "stderr",
     "output_type": "stream",
     "text": [
      "INFO:tensorflow:Saver not created because there are no variables in the graph to restore\n"
     ]
    },
    {
     "name": "stdout",
     "output_type": "stream",
     "text": [
      "0.15306900001031926\n"
     ]
    }
   ],
   "source": [
    "df_test = load_data('test')\n",
    "\n",
    "x_test, y_test = df_to_xy(df_test)\n",
    "\n",
    "embed = hub.Module(module_url)\n",
    "\n",
    "#tf.logging.set_verbosity(tf.logging.ERROR)\n",
    "\n",
    "with tf.Session() as sess:\n",
    "  sess.run([tf.global_variables_initializer(), tf.tables_initializer()])\n",
    "  embeddings_test = sess.run(embed(x_test))\n",
    "\n",
    "y_test_hat = model.predict(embeddings_test)\n",
    "\n",
    "\n",
    "print( np.sqrt( mean_squared_error(y_test, y_test_hat) ) )"
   ]
  },
  {
   "cell_type": "code",
   "execution_count": 9,
   "metadata": {},
   "outputs": [
    {
     "name": "stdout",
     "output_type": "stream",
     "text": [
      "0.15306900001031926\n",
      "0.15264363624391106\n"
     ]
    }
   ],
   "source": [
    "print( np.sqrt( mean_squared_error(y_test, y_test_hat) ) )\n",
    "print( np.sqrt( mean_squared_error(y_test, 0*y_test) ) )"
   ]
  },
  {
   "cell_type": "code",
   "execution_count": 11,
   "metadata": {},
   "outputs": [
    {
     "data": {
      "image/png": "[encoded data removed]",
      "text/plain": [
       "<Figure size 432x288 with 1 Axes>"
      ]
     },
     "metadata": {
      "needs_background": "light"
     },
     "output_type": "display_data"
    }
   ],
   "source": [
    "plt.figure()\n",
    "plt.hist(100*y_test_hat,201)\n",
    "plt.show()"
   ]
  },
  {
   "cell_type": "code",
   "execution_count": 12,
   "metadata": {},
   "outputs": [
    {
     "data": {
      "image/png": "[encoded data removed]",
      "text/plain": [
       "<Figure size 432x288 with 1 Axes>"
      ]
     },
     "metadata": {
      "needs_background": "light"
     },
     "output_type": "display_data"
    }
   ],
   "source": [
    "plt.figure()\n",
    "plt.hist(100*y_test,201)\n",
    "plt.show()"
   ]
  },
  {
   "cell_type": "code",
   "execution_count": null,
   "metadata": {},
   "outputs": [],
   "source": []
  }
 ],
 "metadata": {
  "kernelspec": {
   "display_name": "Python 3",
   "language": "python",
   "name": "python3"
  },
  "language_info": {
   "codemirror_mode": {
    "name": "ipython",
    "version": 3
   },
   "file_extension": ".py",
   "mimetype": "text/x-python",
   "name": "python",
   "nbconvert_exporter": "python",
   "pygments_lexer": "ipython3",
   "version": "3.7.3"
  }
 },
 "nbformat": 4,
 "nbformat_minor": 2
}
