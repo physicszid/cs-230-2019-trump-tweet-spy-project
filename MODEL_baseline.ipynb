{
 "cells": [
  {
   "cell_type": "markdown",
   "metadata": {},
   "source": [
    "# Linear regression model and baseline model\n"
   ]
  },
  {
   "cell_type": "code",
   "execution_count": 1,
   "metadata": {},
   "outputs": [],
   "source": [
    "# import packages\n",
    "\n",
    "import numpy as np\n",
    "import pandas as pd\n",
    "import tensorflow as tf\n",
    "import datetime\n",
    "import matplotlib.pyplot as plt\n",
    "import pickle\n",
    "\n",
    "from utils.tf_utils import random_mini_batches\n",
    "\n",
    "from sklearn.model_selection import train_test_split\n",
    "import re\n",
    "import string"
   ]
  },
  {
   "cell_type": "code",
   "execution_count": 2,
   "metadata": {},
   "outputs": [],
   "source": [
    "# load data\n",
    "\n",
    "def load_data(train_or_test):\n",
    "    if train_or_test not in ['train', 'test']:\n",
    "        return None\n",
    "    path = 'data\\CombinedTWTAQ_' + train_or_test + '.pkl'\n",
    "    with open(path, 'rb') as infile:\n",
    "        df = pickle.load(infile)\n",
    "    return df\n",
    "\n",
    "def clean_text(text):\n",
    "    '''\n",
    "    lowercase, remove puncs, remove urls\n",
    "    '''\n",
    "    text = text.lower()\n",
    "    text = re.sub('[%s]' % re.escape(string.punctuation), '', text)\n",
    "    text = re.sub(r\"http\\S+\", \"\", text)\n",
    "    return text\n",
    "    \n",
    "clean = lambda x: clean_text(x)\n",
    "\n",
    "def df_to_xy(df):\n",
    "    x = df.text.apply(clean)\n",
    "    y = df.PP.apply(lambda xx: xx[75])\n",
    "    y = y.values\n",
    "    return (x,y)\n",
    "\n",
    "\n",
    "def sqrt_mse(y):\n",
    "    return np.sqrt( np.sum( np.square(y) ) / len(y) )"
   ]
  },
  {
   "cell_type": "markdown",
   "metadata": {},
   "source": [
    "## Load data"
   ]
  },
  {
   "cell_type": "code",
   "execution_count": 3,
   "metadata": {},
   "outputs": [
    {
     "name": "stdout",
     "output_type": "stream",
     "text": [
      "0.15128836169147417 0.15246748337145208\n",
      "(4472, 1145)\n",
      "(1145,)\n",
      "CountVectorizer(analyzer='word', binary=False, decode_error='strict',\n",
      "                dtype=<class 'numpy.int64'>, encoding='utf-8', input='content',\n",
      "                lowercase=True, max_df=1.0, max_features=None, min_df=1,\n",
      "                ngram_range=(1, 1), preprocessor=None, stop_words='english',\n",
      "                strip_accents=None, token_pattern='(?u)\\\\b\\\\w\\\\w+\\\\b',\n",
      "                tokenizer=None, vocabulary=None)\n"
     ]
    }
   ],
   "source": [
    "\n",
    "df_train = load_data('train')\n",
    "x, y = df_to_xy(df_train)\n",
    "x_train, x_dev, y_train, y_dev = train_test_split(x,y, test_size=200, random_state=50)\n",
    "print(sqrt_mse(y_train), sqrt_mse(y_dev))\n",
    "\n",
    "m_train = x_train.shape[0]\n",
    "m_dev = x_dev.shape[0]"
   ]
  },
  {
   "cell_type": "code",
   "execution_count": 4,
   "metadata": {},
   "outputs": [
    {
     "data": {
      "text/plain": [
       "scipy.sparse.csr.csr_matrix"
      ]
     },
     "execution_count": 4,
     "metadata": {},
     "output_type": "execute_result"
    }
   ],
   "source": [
    "type(x_train)"
   ]
  },
  {
   "cell_type": "markdown",
   "metadata": {},
   "source": [
    "## Model"
   ]
  },
  {
   "cell_type": "code",
   "execution_count": 5,
   "metadata": {},
   "outputs": [
    {
     "name": "stdout",
     "output_type": "stream",
     "text": [
      "0.15128836169147417\n",
      "0.15246748337145208\n"
     ]
    }
   ],
   "source": [
    "print( np.sqrt( np.mean( np.power(y_train, 2) ) ) )\n",
    "print( np.sqrt( np.mean( np.power(y_dev, 2) ) ) )"
   ]
  },
  {
   "cell_type": "markdown",
   "metadata": {},
   "source": [
    "## Conclusion\n",
    "\n",
    "Guess 0:\n",
    "- Train error: 15.13\n",
    "- Dev error: 15.25\n",
    "- Test error: 15.26\n"
   ]
  },
  {
   "cell_type": "code",
   "execution_count": 7,
   "metadata": {},
   "outputs": [
    {
     "name": "stdout",
     "output_type": "stream",
     "text": [
      "0.15264363624391106\n"
     ]
    }
   ],
   "source": [
    "df_test = load_data('test')\n",
    "\n",
    "x_test, y_test = df_to_xy(df_test)\n",
    "print( sqrt_mse(y_test) )"
   ]
  },
  {
   "cell_type": "code",
   "execution_count": null,
   "metadata": {},
   "outputs": [],
   "source": []
  }
 ],
 "metadata": {
  "kernelspec": {
   "display_name": "Python 3",
   "language": "python",
   "name": "python3"
  },
  "language_info": {
   "codemirror_mode": {
    "name": "ipython",
    "version": 3
   },
   "file_extension": ".py",
   "mimetype": "text/x-python",
   "name": "python",
   "nbconvert_exporter": "python",
   "pygments_lexer": "ipython3",
   "version": "3.7.3"
  }
 },
 "nbformat": 4,
 "nbformat_minor": 2
}
