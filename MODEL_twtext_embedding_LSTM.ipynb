{
 "cells": [
  {
   "cell_type": "markdown",
   "metadata": {},
   "source": [
    "# LSTM model - text embedding"
   ]
  },
  {
   "cell_type": "code",
   "execution_count": 1,
   "metadata": {},
   "outputs": [],
   "source": [
    "# import packages\n",
    "\n",
    "import numpy as np\n",
    "import pandas as pd\n",
    "import pickle\n",
    "\n",
    "import tensorflow as tf\n",
    "from tensorflow import keras\n",
    "\n",
    "import datetime\n",
    "import matplotlib.pyplot as plt\n",
    "import preprocessor as p\n",
    "\n",
    "from utils.embed_utils import read_glove_vecs\n",
    "\n",
    "from sklearn.model_selection import train_test_split\n",
    "from sklearn.metrics import mean_squared_error\n",
    "\n",
    "import re\n",
    "import string"
   ]
  },
  {
   "cell_type": "code",
   "execution_count": 2,
   "metadata": {},
   "outputs": [],
   "source": [
    "# load data\n",
    "\n",
    "def load_data(train_or_test):\n",
    "    if train_or_test not in ['train', 'test']:\n",
    "        return None\n",
    "    path = 'data\\CombinedTWTAQ_' + train_or_test + '.pkl'\n",
    "    with open(path, 'rb') as infile:\n",
    "        df = pickle.load(infile)\n",
    "    return df\n",
    "\n",
    "def clean_text(text):\n",
    "    '''\n",
    "    lowercase, remove puncs, remove urls\n",
    "    '''\n",
    "    text = p.clean(text)\n",
    "    text = text.lower()\n",
    "    #text = re.sub('[%s]' % re.escape(string.punctuation), ' ', text)\n",
    "    text = re.sub(r\"http\\S+\", ' ', text)\n",
    "    return text\n",
    "    \n",
    "clean = lambda x: clean_text(x)\n",
    "\n",
    "def df_to_xy(df):\n",
    "    x = df.text.apply(clean)\n",
    "    y = df.PP.apply(lambda xx: xx[75])\n",
    "    #y = y.values\n",
    "    return (x,y)\n",
    "\n",
    "def sentences_to_indices_V2(X, word_to_index, max_len, padding='pre'):\n",
    "    \n",
    "    m = X.shape[0]\n",
    "    X_ind = [[word_to_index[w] for w in text.lower().split() if w in word_to_index.keys()] for text in X]\n",
    "    X_ind = keras.preprocessing.sequence.pad_sequences(X_ind, maxlen=max_len, padding=padding)\n",
    "    return X_ind\n",
    "\n",
    "def pretrained_embedding_layer(word_to_vec_map, word_to_index):\n",
    "    \"\"\"\n",
    "    Creates a Keras Embedding() layer and loads in pre-trained GloVe 50-dimensional vectors.\n",
    "    \n",
    "    Arguments:\n",
    "    word_to_vec_map -- dictionary mapping words to their GloVe vector representation.\n",
    "    word_to_index -- dictionary mapping from words to their indices in the vocabulary (400,001 words)\n",
    "\n",
    "    Returns:\n",
    "    embedding_layer -- pretrained layer Keras instance\n",
    "    \"\"\"\n",
    "    \n",
    "    vocab_len = len(word_to_index) + 1                  # adding 1 to fit Keras embedding (requirement)\n",
    "    emb_dim = word_to_vec_map[\"cucumber\"].shape[0]      # define dimensionality of your GloVe word vectors (= 50)\n",
    "    \n",
    "    ### START CODE HERE ###\n",
    "    # Initialize the embedding matrix as a numpy array of zeros of shape (vocab_len, dimensions of word vectors = emb_dim)\n",
    "    emb_matrix = np.zeros((vocab_len,emb_dim))\n",
    "    \n",
    "    # Set each row \"index\" of the embedding matrix to be the word vector representation of the \"index\"th word of the vocabulary\n",
    "    for word, index in word_to_index.items():\n",
    "        if word_to_vec_map[word].shape[0] == emb_dim:\n",
    "            emb_matrix[index, :] = word_to_vec_map[word]\n",
    "\n",
    "    # Define Keras embedding layer with the correct output/input sizes, make it non-trainable. Use Embedding(...). Make sure to set trainable=False. \n",
    "    embedding_layer = keras.layers.Embedding(input_dim=vocab_len, output_dim=emb_dim, trainable=False)\n",
    "    ### END CODE HERE ###\n",
    "\n",
    "    # Build the embedding layer, it is required before setting the weights of the embedding layer. Do not modify the \"None\".\n",
    "    embedding_layer.build((None,))\n",
    "    \n",
    "    # Set the weights of the embedding layer to the embedding matrix. Your layer is now pretrained.\n",
    "    embedding_layer.set_weights([emb_matrix])\n",
    "    \n",
    "    return embedding_layer"
   ]
  },
  {
   "cell_type": "code",
   "execution_count": 3,
   "metadata": {
    "scrolled": true
   },
   "outputs": [
    {
     "name": "stdout",
     "output_type": "stream",
     "text": [
      "<class 'numpy.ndarray'>\n",
      "<class 'pandas.core.series.Series'>\n",
      "...big crooked hillary law firm, represented by her lawyer michael sussmann (do you believe this?) who worked baker hard &amp; gave him oppo research for “a russia probe.” this meeting, now eed, is the subject of senate inquiries and much more. an unconstitutional hoax. 0.06254236751011\n"
     ]
    }
   ],
   "source": [
    "x,y = df_to_xy(load_data('test'))\n",
    "print(type(x.values))\n",
    "print(type(y))\n",
    "\n",
    "ind = 101\n",
    "print(x[ind], y[ind])\n"
   ]
  },
  {
   "cell_type": "markdown",
   "metadata": {},
   "source": [
    "## Load embedding"
   ]
  },
  {
   "cell_type": "code",
   "execution_count": 4,
   "metadata": {},
   "outputs": [],
   "source": [
    "word_to_index, index_to_word, word_to_vec_map = read_glove_vecs('utils/glove.twitter.27B.50d.txt')"
   ]
  },
  {
   "cell_type": "markdown",
   "metadata": {},
   "source": [
    "## Load data"
   ]
  },
  {
   "cell_type": "code",
   "execution_count": 5,
   "metadata": {},
   "outputs": [
    {
     "name": "stdout",
     "output_type": "stream",
     "text": [
      "(1145, 140)\n",
      "(1145,)\n"
     ]
    }
   ],
   "source": [
    "max_len = 140\n",
    "EMB_DIM = 50\n",
    "\n",
    "df_train = load_data('train')\n",
    "x, y = df_to_xy(df_train)\n",
    "\n",
    "x_train, x_dev, y_train, y_dev = train_test_split(x,y, test_size=200, random_state=50)\n",
    "\n",
    "m_train = x_train.shape[0]\n",
    "m_dev = x_dev.shape[0]\n",
    "\n",
    "x_train_org = x_train\n",
    "x_train = sentences_to_indices_V2(x_train, word_to_index, max_len, padding='pre')\n",
    "    \n",
    "x_dev_org = x_dev\n",
    "x_dev = sentences_to_indices_V2(x_dev, word_to_index, max_len, padding='pre')\n",
    "\n",
    "print(x_train.shape)\n",
    "print(y_train.shape)\n",
    "\n",
    "y_train_org = y_train\n",
    "y_train = np.nan_to_num(y_train)"
   ]
  },
  {
   "cell_type": "markdown",
   "metadata": {},
   "source": [
    "## Model"
   ]
  },
  {
   "cell_type": "code",
   "execution_count": 6,
   "metadata": {},
   "outputs": [
    {
     "name": "stdout",
     "output_type": "stream",
     "text": [
      "WARNING:tensorflow:From C:\\Users\\Basil\\Anaconda3\\lib\\site-packages\\tensorflow_core\\python\\keras\\initializers.py:119: calling RandomUniform.__init__ (from tensorflow.python.ops.init_ops) with dtype is deprecated and will be removed in a future version.\n",
      "Instructions for updating:\n",
      "Call initializer instance with the dtype argument instead of passing it to the constructor\n",
      "WARNING:tensorflow:From C:\\Users\\Basil\\Anaconda3\\lib\\site-packages\\tensorflow_core\\python\\ops\\resource_variable_ops.py:1630: calling BaseResourceVariable.__init__ (from tensorflow.python.ops.resource_variable_ops) with constraint is deprecated and will be removed in a future version.\n",
      "Instructions for updating:\n",
      "If using Keras pass *_constraint arguments to layers.\n",
      "Model: \"model\"\n",
      "_________________________________________________________________\n",
      "Layer (type)                 Output Shape              Param #   \n",
      "=================================================================\n",
      "input_1 (InputLayer)         [(None, 140)]             0         \n",
      "_________________________________________________________________\n",
      "embedding (Embedding)        (None, 140, 50)           59675750  \n",
      "_________________________________________________________________\n",
      "LSTM1 (LSTM)                 (None, 140, 4)            880       \n",
      "_________________________________________________________________\n",
      "Dropout1 (Dropout)           (None, 140, 4)            0         \n",
      "_________________________________________________________________\n",
      "LSTM2 (LSTM)                 (None, 4)                 144       \n",
      "_________________________________________________________________\n",
      "Dropout2 (Dropout)           (None, 4)                 0         \n",
      "_________________________________________________________________\n",
      "Dense (Dense)                (None, 4)                 20        \n",
      "_________________________________________________________________\n",
      "dropout (Dropout)            (None, 4)                 0         \n",
      "_________________________________________________________________\n",
      "dense (Dense)                (None, 1)                 5         \n",
      "=================================================================\n",
      "Total params: 59,676,799\n",
      "Trainable params: 1,049\n",
      "Non-trainable params: 59,675,750\n",
      "_________________________________________________________________\n",
      "WARNING:tensorflow:From C:\\Users\\Basil\\Anaconda3\\lib\\site-packages\\tensorflow_core\\python\\ops\\math_grad.py:1424: where (from tensorflow.python.ops.array_ops) is deprecated and will be removed in a future version.\n",
      "Instructions for updating:\n",
      "Use tf.where in 2.0, which has the same broadcast rule as np.where\n",
      "Train on 1145 samples\n",
      "Epoch 1/50\n",
      "1145/1145 [==============================] - 6s 5ms/sample - loss: 0.0801 - mean_absolute_error: 0.2018\n",
      "Epoch 2/50\n",
      "1145/1145 [==============================] - 5s 4ms/sample - loss: 0.0703 - mean_absolute_error: 0.1896\n",
      "Epoch 3/50\n",
      "1145/1145 [==============================] - 6s 5ms/sample - loss: 0.0628 - mean_absolute_error: 0.1830\n",
      "Epoch 4/50\n",
      "1145/1145 [==============================] - 5s 4ms/sample - loss: 0.0611 - mean_absolute_error: 0.1760\n",
      "Epoch 5/50\n",
      "1145/1145 [==============================] - 5s 4ms/sample - loss: 0.0556 - mean_absolute_error: 0.1702\n",
      "Epoch 6/50\n",
      "1145/1145 [==============================] - 5s 4ms/sample - loss: 0.0521 - mean_absolute_error: 0.1611\n",
      "Epoch 7/50\n",
      "1145/1145 [==============================] - 5s 4ms/sample - loss: 0.0527 - mean_absolute_error: 0.1645\n",
      "Epoch 8/50\n",
      "1145/1145 [==============================] - 5s 4ms/sample - loss: 0.0469 - mean_absolute_error: 0.1554\n",
      "Epoch 9/50\n",
      "1145/1145 [==============================] - 6s 5ms/sample - loss: 0.0467 - mean_absolute_error: 0.1559\n",
      "Epoch 10/50\n",
      "1145/1145 [==============================] - 5s 4ms/sample - loss: 0.0426 - mean_absolute_error: 0.1459\n",
      "Epoch 11/50\n",
      "1145/1145 [==============================] - 5s 4ms/sample - loss: 0.0418 - mean_absolute_error: 0.1438\n",
      "Epoch 12/50\n",
      "1145/1145 [==============================] - 6s 5ms/sample - loss: 0.0379 - mean_absolute_error: 0.1372\n",
      "Epoch 13/50\n",
      "1145/1145 [==============================] - 5s 4ms/sample - loss: 0.0390 - mean_absolute_error: 0.1387\n",
      "Epoch 14/50\n",
      "1145/1145 [==============================] - 5s 4ms/sample - loss: 0.0354 - mean_absolute_error: 0.1323\n",
      "Epoch 15/50\n",
      "1145/1145 [==============================] - 5s 4ms/sample - loss: 0.0351 - mean_absolute_error: 0.1304\n",
      "Epoch 16/50\n",
      "1145/1145 [==============================] - 5s 5ms/sample - loss: 0.0344 - mean_absolute_error: 0.1260\n",
      "Epoch 17/50\n",
      "1145/1145 [==============================] - 5s 4ms/sample - loss: 0.0356 - mean_absolute_error: 0.1326\n",
      "Epoch 18/50\n",
      "1145/1145 [==============================] - 4s 4ms/sample - loss: 0.0323 - mean_absolute_error: 0.1193\n",
      "Epoch 19/50\n",
      "1145/1145 [==============================] - 5s 4ms/sample - loss: 0.0314 - mean_absolute_error: 0.1222\n",
      "Epoch 20/50\n",
      "1145/1145 [==============================] - 5s 4ms/sample - loss: 0.0318 - mean_absolute_error: 0.1234\n",
      "Epoch 21/50\n",
      "1145/1145 [==============================] - 5s 4ms/sample - loss: 0.0312 - mean_absolute_error: 0.1203\n",
      "Epoch 22/50\n",
      "1145/1145 [==============================] - 5s 4ms/sample - loss: 0.0294 - mean_absolute_error: 0.1144\n",
      "Epoch 23/50\n",
      "1145/1145 [==============================] - 5s 5ms/sample - loss: 0.0289 - mean_absolute_error: 0.1142\n",
      "Epoch 24/50\n",
      "1145/1145 [==============================] - 5s 5ms/sample - loss: 0.0283 - mean_absolute_error: 0.1119\n",
      "Epoch 25/50\n",
      "1145/1145 [==============================] - 5s 4ms/sample - loss: 0.0277 - mean_absolute_error: 0.1092\n",
      "Epoch 26/50\n",
      "1145/1145 [==============================] - 5s 5ms/sample - loss: 0.0281 - mean_absolute_error: 0.1090\n",
      "Epoch 27/50\n",
      "1145/1145 [==============================] - 6s 5ms/sample - loss: 0.0265 - mean_absolute_error: 0.1079\n",
      "Epoch 28/50\n",
      "1145/1145 [==============================] - 5s 5ms/sample - loss: 0.0280 - mean_absolute_error: 0.1080\n",
      "Epoch 29/50\n",
      "1145/1145 [==============================] - 5s 4ms/sample - loss: 0.0261 - mean_absolute_error: 0.1045\n",
      "Epoch 30/50\n",
      "1145/1145 [==============================] - 5s 4ms/sample - loss: 0.0254 - mean_absolute_error: 0.1040\n",
      "Epoch 31/50\n",
      "1145/1145 [==============================] - 5s 4ms/sample - loss: 0.0259 - mean_absolute_error: 0.1027\n",
      "Epoch 32/50\n",
      "1145/1145 [==============================] - 5s 4ms/sample - loss: 0.0257 - mean_absolute_error: 0.1055\n",
      "Epoch 33/50\n",
      "1145/1145 [==============================] - 5s 4ms/sample - loss: 0.0261 - mean_absolute_error: 0.1039\n",
      "Epoch 34/50\n",
      "1145/1145 [==============================] - 5s 4ms/sample - loss: 0.0252 - mean_absolute_error: 0.1024\n",
      "Epoch 35/50\n",
      "1145/1145 [==============================] - 5s 4ms/sample - loss: 0.0249 - mean_absolute_error: 0.1022\n",
      "Epoch 36/50\n",
      "1145/1145 [==============================] - 5s 4ms/sample - loss: 0.0251 - mean_absolute_error: 0.1016\n",
      "Epoch 37/50\n",
      "1145/1145 [==============================] - 5s 4ms/sample - loss: 0.0241 - mean_absolute_error: 0.0997\n",
      "Epoch 38/50\n",
      "1145/1145 [==============================] - 5s 4ms/sample - loss: 0.0246 - mean_absolute_error: 0.0997\n",
      "Epoch 39/50\n",
      "1145/1145 [==============================] - 5s 4ms/sample - loss: 0.0248 - mean_absolute_error: 0.0998\n",
      "Epoch 40/50\n",
      "1145/1145 [==============================] - 5s 4ms/sample - loss: 0.0247 - mean_absolute_error: 0.0992\n",
      "Epoch 41/50\n",
      "1145/1145 [==============================] - 5s 4ms/sample - loss: 0.0244 - mean_absolute_error: 0.0993\n",
      "Epoch 42/50\n",
      "1145/1145 [==============================] - 5s 4ms/sample - loss: 0.0236 - mean_absolute_error: 0.0984\n",
      "Epoch 43/50\n",
      "1145/1145 [==============================] - 5s 4ms/sample - loss: 0.0241 - mean_absolute_error: 0.0983\n",
      "Epoch 44/50\n",
      "1145/1145 [==============================] - 5s 4ms/sample - loss: 0.0240 - mean_absolute_error: 0.0978\n",
      "Epoch 45/50\n",
      "1145/1145 [==============================] - 5s 4ms/sample - loss: 0.0238 - mean_absolute_error: 0.0988\n",
      "Epoch 46/50\n",
      "1145/1145 [==============================] - 5s 4ms/sample - loss: 0.0237 - mean_absolute_error: 0.0969\n",
      "Epoch 47/50\n",
      "1145/1145 [==============================] - 5s 4ms/sample - loss: 0.0231 - mean_absolute_error: 0.0961\n",
      "Epoch 48/50\n",
      "1145/1145 [==============================] - 5s 4ms/sample - loss: 0.0236 - mean_absolute_error: 0.0977\n",
      "Epoch 49/50\n",
      "1145/1145 [==============================] - 5s 5ms/sample - loss: 0.0237 - mean_absolute_error: 0.0987\n",
      "Epoch 50/50\n",
      "1145/1145 [==============================] - 5s 5ms/sample - loss: 0.0237 - mean_absolute_error: 0.0976\n"
     ]
    },
    {
     "data": {
      "text/plain": [
       "<tensorflow.python.keras.callbacks.History at 0x1f4c4b560f0>"
      ]
     },
     "execution_count": 6,
     "metadata": {},
     "output_type": "execute_result"
    }
   ],
   "source": [
    "def create_LSTM_model(input_shape, word_to_vec_map, word_to_index):\n",
    "    \n",
    "    # Define sentence_indices as the input of the graph, it should be of shape input_shape and dtype 'int32' (as it contains indices).\n",
    "    sentence_indices = keras.layers.Input(shape=input_shape, dtype='int32')\n",
    "    \n",
    "    # Create the embedding layer pretrained with GloVe Vectors (≈1 line)\n",
    "    embedding_layer = pretrained_embedding_layer(word_to_vec_map, word_to_index)\n",
    "    \n",
    "    # Propagate sentence_indices through your embedding layer, you get back the embeddings\n",
    "    embeddings = embedding_layer(sentence_indices)   \n",
    "    \n",
    "    X = keras.layers.LSTM(4, return_sequences=True, name='LSTM1')(embeddings)\n",
    "    X = keras.layers.Dropout(0.25,name='Dropout1')(X)\n",
    "    X = keras.layers.LSTM(4, return_sequences=False, name='LSTM2')(X)\n",
    "    X = keras.layers.Dropout(0.25,name='Dropout2')(X)\n",
    "    X = keras.layers.Dense(4,name='Dense',activation='sigmoid')(X)\n",
    "    X = keras.layers.Dropout(0.1)(X)\n",
    "    X = keras.layers.Dense(1,activation='linear')(X)\n",
    "    \n",
    "    # Create Model instance which converts sentence_indices into X.\n",
    "    model = keras.models.Model(inputs=sentence_indices, outputs=X)\n",
    "    \n",
    "    return model\n",
    "\n",
    "#max_len = 140\n",
    "input_shape = (max_len,)\n",
    "\n",
    "tf.reset_default_graph()\n",
    "\n",
    "model = create_LSTM_model(input_shape, word_to_vec_map, word_to_index)\n",
    "\n",
    "model.summary()\n",
    "\n",
    "model.compile(optimizer='adam',\n",
    "              loss='mean_squared_error',\n",
    "              metrics=['mae'])\n",
    "\n",
    "model.fit(x_train, y_train, epochs=50)"
   ]
  },
  {
   "cell_type": "markdown",
   "metadata": {},
   "source": [
    "## Evaluate accuracy"
   ]
  },
  {
   "cell_type": "code",
   "execution_count": 8,
   "metadata": {},
   "outputs": [
    {
     "name": "stdout",
     "output_type": "stream",
     "text": [
      "200/200 - 0s - loss: 0.0232 - mean_absolute_error: 0.0983\n",
      "0.1494902392265442\n",
      "0.15215962453934345\n",
      "0.15246748337145208\n"
     ]
    }
   ],
   "source": [
    "dev_loss, dev_acc = model.evaluate(x_dev,  y_dev, verbose=2)\n",
    "\n",
    "\n",
    "print( np.sqrt( mean_squared_error(y_train, model.predict(x_train)) ) )\n",
    "print( np.sqrt( mean_squared_error(y_dev, model.predict(x_dev)) ) )\n",
    "\n",
    "print( np.sqrt( mean_squared_error(y_dev, 0*y_dev ) ) )"
   ]
  },
  {
   "cell_type": "markdown",
   "metadata": {},
   "source": [
    "## Conclusion\n",
    "\n",
    "\n",
    "Guess 0:\n",
    "- Train error: 15.13\n",
    "- Dev error: 15.25\n",
    "- Test error: 15.26\n",
    "\n",
    "LSTM model with twitter embedding:\n",
    "- Train error: 14.95\n",
    "- Dev error: 15.21\n",
    "- Test error: 15.40\n"
   ]
  },
  {
   "cell_type": "code",
   "execution_count": 10,
   "metadata": {},
   "outputs": [],
   "source": [
    "# save model\n",
    "savepath = 'MODEL_twtext_embed_nn.h5'\n",
    "model.save(savepath)"
   ]
  },
  {
   "cell_type": "code",
   "execution_count": 5,
   "metadata": {},
   "outputs": [
    {
     "name": "stdout",
     "output_type": "stream",
     "text": [
      "WARNING:tensorflow:From C:\\Users\\Basil\\Anaconda3\\lib\\site-packages\\tensorflow_core\\python\\keras\\initializers.py:119: calling RandomUniform.__init__ (from tensorflow.python.ops.init_ops) with dtype is deprecated and will be removed in a future version.\n",
      "Instructions for updating:\n",
      "Call initializer instance with the dtype argument instead of passing it to the constructor\n",
      "WARNING:tensorflow:From C:\\Users\\Basil\\Anaconda3\\lib\\site-packages\\tensorflow_core\\python\\ops\\init_ops.py:97: calling GlorotUniform.__init__ (from tensorflow.python.ops.init_ops) with dtype is deprecated and will be removed in a future version.\n",
      "Instructions for updating:\n",
      "Call initializer instance with the dtype argument instead of passing it to the constructor\n",
      "WARNING:tensorflow:From C:\\Users\\Basil\\Anaconda3\\lib\\site-packages\\tensorflow_core\\python\\ops\\init_ops.py:97: calling Orthogonal.__init__ (from tensorflow.python.ops.init_ops) with dtype is deprecated and will be removed in a future version.\n",
      "Instructions for updating:\n",
      "Call initializer instance with the dtype argument instead of passing it to the constructor\n",
      "WARNING:tensorflow:From C:\\Users\\Basil\\Anaconda3\\lib\\site-packages\\tensorflow_core\\python\\ops\\init_ops.py:97: calling Zeros.__init__ (from tensorflow.python.ops.init_ops) with dtype is deprecated and will be removed in a future version.\n",
      "Instructions for updating:\n",
      "Call initializer instance with the dtype argument instead of passing it to the constructor\n",
      "WARNING:tensorflow:From C:\\Users\\Basil\\Anaconda3\\lib\\site-packages\\tensorflow_core\\python\\ops\\resource_variable_ops.py:1630: calling BaseResourceVariable.__init__ (from tensorflow.python.ops.resource_variable_ops) with constraint is deprecated and will be removed in a future version.\n",
      "Instructions for updating:\n",
      "If using Keras pass *_constraint arguments to layers.\n",
      "WARNING:tensorflow:From C:\\Users\\Basil\\Anaconda3\\lib\\site-packages\\tensorflow_core\\python\\ops\\math_grad.py:1424: where (from tensorflow.python.ops.array_ops) is deprecated and will be removed in a future version.\n",
      "Instructions for updating:\n",
      "Use tf.where in 2.0, which has the same broadcast rule as np.where\n",
      "Model: \"model\"\n",
      "_________________________________________________________________\n",
      "Layer (type)                 Output Shape              Param #   \n",
      "=================================================================\n",
      "input_1 (InputLayer)         [(None, 140)]             0         \n",
      "_________________________________________________________________\n",
      "embedding (Embedding)        (None, 140, 50)           59675750  \n",
      "_________________________________________________________________\n",
      "LSTM1 (LSTM)                 (None, 140, 4)            880       \n",
      "_________________________________________________________________\n",
      "Dropout1 (Dropout)           (None, 140, 4)            0         \n",
      "_________________________________________________________________\n",
      "LSTM2 (LSTM)                 (None, 4)                 144       \n",
      "_________________________________________________________________\n",
      "Dropout2 (Dropout)           (None, 4)                 0         \n",
      "_________________________________________________________________\n",
      "Dense (Dense)                (None, 4)                 20        \n",
      "_________________________________________________________________\n",
      "dropout (Dropout)            (None, 4)                 0         \n",
      "_________________________________________________________________\n",
      "dense (Dense)                (None, 1)                 5         \n",
      "=================================================================\n",
      "Total params: 59,676,799\n",
      "Trainable params: 1,049\n",
      "Non-trainable params: 59,675,750\n",
      "_________________________________________________________________\n"
     ]
    }
   ],
   "source": [
    "#from keras.models import load_model\n",
    "savepath = 'MODEL_twtext_embed_nn.h5'\n",
    "model_load = keras.models.load_model(savepath)\n",
    "model_load.summary()"
   ]
  },
  {
   "cell_type": "code",
   "execution_count": 8,
   "metadata": {},
   "outputs": [
    {
     "name": "stdout",
     "output_type": "stream",
     "text": [
      "0.15404710087104162\n"
     ]
    }
   ],
   "source": [
    "max_len = 140\n",
    "#EMB_DIM = 50\n",
    "\n",
    "df_test = load_data('test')\n",
    "x_test, y_test = df_to_xy(df_test)\n",
    "\n",
    "x_test =  sentences_to_indices_V2(x_test, word_to_index, max_len, padding='pre')\n",
    "y_test_hat = model_load.predict(x_test)\n",
    "\n",
    "print( np.sqrt( mean_squared_error(y_test, y_test_hat) ) )"
   ]
  },
  {
   "cell_type": "code",
   "execution_count": 9,
   "metadata": {},
   "outputs": [
    {
     "data": {
      "image/png": "[encoded data removed]",
      "text/plain": [
       "<Figure size 432x288 with 1 Axes>"
      ]
     },
     "metadata": {
      "needs_background": "light"
     },
     "output_type": "display_data"
    }
   ],
   "source": [
    "plt.figure()\n",
    "plt.hist(100*y_test_hat,201)\n",
    "plt.show()"
   ]
  },
  {
   "cell_type": "code",
   "execution_count": 10,
   "metadata": {},
   "outputs": [
    {
     "data": {
      "image/png": "[encoded data removed]",
      "text/plain": [
       "<Figure size 432x288 with 1 Axes>"
      ]
     },
     "metadata": {
      "needs_background": "light"
     },
     "output_type": "display_data"
    }
   ],
   "source": [
    "plt.figure()\n",
    "plt.hist(100*y_test,201)\n",
    "plt.show()"
   ]
  },
  {
   "cell_type": "code",
   "execution_count": null,
   "metadata": {},
   "outputs": [],
   "source": []
  }
 ],
 "metadata": {
  "kernelspec": {
   "display_name": "Python 3",
   "language": "python",
   "name": "python3"
  },
  "language_info": {
   "codemirror_mode": {
    "name": "ipython",
    "version": 3
   },
   "file_extension": ".py",
   "mimetype": "text/x-python",
   "name": "python",
   "nbconvert_exporter": "python",
   "pygments_lexer": "ipython3",
   "version": "3.7.3"
  }
 },
 "nbformat": 4,
 "nbformat_minor": 2
}
